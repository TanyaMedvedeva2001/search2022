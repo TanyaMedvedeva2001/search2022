{
 "cells": [
  {
   "cell_type": "code",
   "execution_count": 9,
   "metadata": {},
   "outputs": [],
   "source": [
    "from bs4 import BeautifulSoup\n",
    "import requests\n",
    "import pandas as pd\n"
   ]
  },
  {
   "cell_type": "code",
   "execution_count": 10,
   "metadata": {},
   "outputs": [],
   "source": [
    "def parse_view(view):\n",
    "    title_info = view.find('div', {'class' : 'views-field views-field-title'})\n",
    "    title = title_info.find('a').text\n",
    "    author_info = view.find('div', {'class' : 'views-field views-field-field-author-fio'})\n",
    "    author = author_info.find('a').text\n",
    "    genre_info = view.find('div', {'class' : 'views-field views-field-term-node-tid'})\n",
    "    list_genre = list(map(lambda x : x.text, genre_info.find_all('a', {'class' : 'active'})))\n",
    "    discr_info = view.find('div', {'class' : 'views-field views-field-body'})\n",
    "    discr  = discr_info.find('span', {'class':'field-content'}).text\n",
    "    res = [title, author, list_genre, discr]\n",
    "    return res"
   ]
  },
  {
   "cell_type": "code",
   "execution_count": 11,
   "metadata": {},
   "outputs": [
    {
     "name": "stderr",
     "output_type": "stream",
     "text": [
      "c:\\Users\\tatya\\AppData\\Local\\Programs\\Python\\Python310\\lib\\site-packages\\pandas\\core\\dtypes\\cast.py:948: VisibleDeprecationWarning: Creating an ndarray from ragged nested sequences (which is a list-or-tuple of lists-or-tuples-or ndarrays with different lengths or shapes) is deprecated. If you meant to do this, you must specify 'dtype=object' when creating the ndarray.\n",
      "  element = np.asarray(element)\n"
     ]
    }
   ],
   "source": [
    "df = pd.DataFrame({'title':[], 'author':[], 'genre':[], 'discription':[]})\n",
    "for i in range(96):\n",
    "    URL_TEMPLATE = \"https://knijky.ru/zhanry/russkaya-klassika?page=\" + str(i)\n",
    "    r = requests.get(URL_TEMPLATE)\n",
    "    soup =  BeautifulSoup(r.text)\n",
    "    views_info = soup.find('div', {'class' : 'books pre_book'})\n",
    "    views = views_info.find_all('div', {'class' : 'views-row'})\n",
    "    for view in views:\n",
    "        res = parse_view(view)\n",
    "        df.loc[ len(df)] = res"
   ]
  },
  {
   "cell_type": "code",
   "execution_count": 25,
   "metadata": {},
   "outputs": [],
   "source": [
    "df.to_csv('books.csv', sep='~', index=False, header=True) "
   ]
  },
  {
   "cell_type": "code",
   "execution_count": 27,
   "metadata": {},
   "outputs": [],
   "source": [
    "df.to_json ('books.json', orient='records')"
   ]
  },
  {
   "cell_type": "code",
   "execution_count": 30,
   "metadata": {},
   "outputs": [
    {
     "name": "stdout",
     "output_type": "stream",
     "text": [
      "[1, 3, 4, 5]\n"
     ]
    }
   ],
   "source": [
    "print(str([1,3,4,5]))"
   ]
  }
 ],
 "metadata": {
  "kernelspec": {
   "display_name": "Python 3.10.8 64-bit",
   "language": "python",
   "name": "python3"
  },
  "language_info": {
   "codemirror_mode": {
    "name": "ipython",
    "version": 3
   },
   "file_extension": ".py",
   "mimetype": "text/x-python",
   "name": "python",
   "nbconvert_exporter": "python",
   "pygments_lexer": "ipython3",
   "version": "3.10.8"
  },
  "orig_nbformat": 4,
  "vscode": {
   "interpreter": {
    "hash": "55bee2b475449122480f332f87d1ffc5033ec59ca8f80c1bfd421df7bdf1aaca"
   }
  }
 },
 "nbformat": 4,
 "nbformat_minor": 2
}
