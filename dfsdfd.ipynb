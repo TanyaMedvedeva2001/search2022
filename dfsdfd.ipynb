{
  "nbformat": 4,
  "nbformat_minor": 0,
  "metadata": {
    "colab": {
      "provenance": []
    },
    "kernelspec": {
      "name": "python3",
      "display_name": "Python 3"
    },
    "language_info": {
      "name": "python"
    }
  },
  "cells": [
    {
      "cell_type": "code",
      "execution_count": 1,
      "metadata": {
        "colab": {
          "base_uri": "https://localhost:8080/"
        },
        "id": "hy_Dqh5E_2BH",
        "outputId": "7980c0dc-c9df-4726-bcb7-4d9b1a1c2161"
      },
      "outputs": [
        {
          "output_type": "stream",
          "name": "stdout",
          "text": [
            "Mounted at /content/gdrive\n"
          ]
        }
      ],
      "source": [
        "from PIL import Image\n",
        "import cv2\n",
        "from google.colab import drive\n",
        "import matplotlib.pyplot as plt \n",
        "drive.mount('/content/gdrive')\n",
        "import numpy as np"
      ]
    },
    {
      "cell_type": "code",
      "source": [
        "def count_im(im):\n",
        "  pixels = im.load()  # список с пикселями\n",
        "  sum = 0\n",
        "  for i in range(60):\n",
        "    for j in range(60):\n",
        "      for c in range(3):\n",
        "        sum += pixels[i, j][c]\n",
        "  return np.log((sum / (60 * 60)))"
      ],
      "metadata": {
        "id": "sNHYSfUkEub_"
      },
      "execution_count": 2,
      "outputs": []
    },
    {
      "cell_type": "code",
      "source": [
        "path = 'gdrive/My Drive/compvis/1'\n",
        "n = 17\n",
        "sum_col = []\n",
        "for i in range(1, n + 1):\n",
        "  img = Image.open(path + '/' + str(i) + '.jpg')\n",
        "  im_crop = img.crop((0, 0, 60, 60))\n",
        "  sum_col.append(count_im(im_crop))\n",
        "iso = np.arange(-4.,2., 0.36)\n",
        "plt.plot(iso, sum_col)\n",
        "\n"
      ],
      "metadata": {
        "colab": {
          "base_uri": "https://localhost:8080/",
          "height": 282
        },
        "id": "11dO8o_4CERR",
        "outputId": "5724170e-92d1-439c-a590-f3e637200968"
      },
      "execution_count": 4,
      "outputs": [
        {
          "output_type": "execute_result",
          "data": {
            "text/plain": [
              "[<matplotlib.lines.Line2D at 0x7f9906253b20>]"
            ]
          },
          "metadata": {},
          "execution_count": 4
        },
        {
          "output_type": "display_data",
          "data": {
            "text/plain": [
              "<Figure size 432x288 with 1 Axes>"
            ],
            "image/png": "[encoded data removed]"
          },
          "metadata": {
            "needs_background": "light"
          }
        }
      ]
    }
  ]
}
